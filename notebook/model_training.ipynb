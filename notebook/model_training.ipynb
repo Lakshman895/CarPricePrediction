{
 "cells": [
  {
   "cell_type": "code",
   "execution_count": 2,
   "metadata": {},
   "outputs": [],
   "source": [
    "import numpy as np\n",
    "import pandas as pd\n",
    "from sklearn.preprocessing import OneHotEncoder, StandardScaler\n",
    "from sklearn.compose import ColumnTransformer\n",
    "from sklearn.model_selection import train_test_split"
   ]
  },
  {
   "cell_type": "code",
   "execution_count": 3,
   "metadata": {},
   "outputs": [
    {
     "data": {
      "text/html": [
       "<div>\n",
       "<style scoped>\n",
       "    .dataframe tbody tr th:only-of-type {\n",
       "        vertical-align: middle;\n",
       "    }\n",
       "\n",
       "    .dataframe tbody tr th {\n",
       "        vertical-align: top;\n",
       "    }\n",
       "\n",
       "    .dataframe thead th {\n",
       "        text-align: right;\n",
       "    }\n",
       "</style>\n",
       "<table border=\"1\" class=\"dataframe\">\n",
       "  <thead>\n",
       "    <tr style=\"text-align: right;\">\n",
       "      <th></th>\n",
       "      <th>Car Brand</th>\n",
       "      <th>Model</th>\n",
       "      <th>Year</th>\n",
       "      <th>Mileage</th>\n",
       "      <th>Fuel Type</th>\n",
       "      <th>Engine Size</th>\n",
       "      <th>Transmission</th>\n",
       "      <th>Body Type</th>\n",
       "      <th>Color</th>\n",
       "      <th>Owner History</th>\n",
       "      <th>Price</th>\n",
       "      <th>Age</th>\n",
       "    </tr>\n",
       "  </thead>\n",
       "  <tbody>\n",
       "    <tr>\n",
       "      <th>0</th>\n",
       "      <td>nissan</td>\n",
       "      <td>model d</td>\n",
       "      <td>2006</td>\n",
       "      <td>244586</td>\n",
       "      <td>diesel</td>\n",
       "      <td>1.1</td>\n",
       "      <td>automatic</td>\n",
       "      <td>coupe</td>\n",
       "      <td>red</td>\n",
       "      <td>third owner</td>\n",
       "      <td>6501.73</td>\n",
       "      <td>17</td>\n",
       "    </tr>\n",
       "    <tr>\n",
       "      <th>1</th>\n",
       "      <td>honda</td>\n",
       "      <td>model d</td>\n",
       "      <td>2006</td>\n",
       "      <td>89556</td>\n",
       "      <td>electric</td>\n",
       "      <td>4.4</td>\n",
       "      <td>automatic</td>\n",
       "      <td>coupe</td>\n",
       "      <td>gray</td>\n",
       "      <td>second owner</td>\n",
       "      <td>15860.51</td>\n",
       "      <td>17</td>\n",
       "    </tr>\n",
       "    <tr>\n",
       "      <th>2</th>\n",
       "      <td>ford</td>\n",
       "      <td>model e</td>\n",
       "      <td>2007</td>\n",
       "      <td>258273</td>\n",
       "      <td>hybrid</td>\n",
       "      <td>1.4</td>\n",
       "      <td>manual</td>\n",
       "      <td>suv</td>\n",
       "      <td>black</td>\n",
       "      <td>first owner</td>\n",
       "      <td>8136.09</td>\n",
       "      <td>16</td>\n",
       "    </tr>\n",
       "    <tr>\n",
       "      <th>3</th>\n",
       "      <td>kia</td>\n",
       "      <td>model e</td>\n",
       "      <td>2023</td>\n",
       "      <td>217592</td>\n",
       "      <td>electric</td>\n",
       "      <td>3.7</td>\n",
       "      <td>automatic</td>\n",
       "      <td>coupe</td>\n",
       "      <td>red</td>\n",
       "      <td>second owner</td>\n",
       "      <td>18556.40</td>\n",
       "      <td>0</td>\n",
       "    </tr>\n",
       "    <tr>\n",
       "      <th>4</th>\n",
       "      <td>chevrolet</td>\n",
       "      <td>model c</td>\n",
       "      <td>2002</td>\n",
       "      <td>256919</td>\n",
       "      <td>hybrid</td>\n",
       "      <td>2.8</td>\n",
       "      <td>manual</td>\n",
       "      <td>suv</td>\n",
       "      <td>blue</td>\n",
       "      <td>third owner</td>\n",
       "      <td>7486.00</td>\n",
       "      <td>21</td>\n",
       "    </tr>\n",
       "  </tbody>\n",
       "</table>\n",
       "</div>"
      ],
      "text/plain": [
       "   Car Brand    Model  Year  Mileage Fuel Type  Engine Size Transmission  \\\n",
       "0     nissan  model d  2006   244586    diesel          1.1    automatic   \n",
       "1      honda  model d  2006    89556  electric          4.4    automatic   \n",
       "2       ford  model e  2007   258273    hybrid          1.4       manual   \n",
       "3        kia  model e  2023   217592  electric          3.7    automatic   \n",
       "4  chevrolet  model c  2002   256919    hybrid          2.8       manual   \n",
       "\n",
       "  Body Type  Color Owner History     Price  Age  \n",
       "0     coupe    red   third owner   6501.73   17  \n",
       "1     coupe   gray  second owner  15860.51   17  \n",
       "2       suv  black   first owner   8136.09   16  \n",
       "3     coupe    red  second owner  18556.40    0  \n",
       "4       suv   blue   third owner   7486.00   21  "
      ]
     },
     "execution_count": 3,
     "metadata": {},
     "output_type": "execute_result"
    }
   ],
   "source": [
    "df = pd.read_csv('../data/cleaned_car_data.csv')\n",
    "df.head()"
   ]
  },
  {
   "cell_type": "code",
   "execution_count": 4,
   "metadata": {},
   "outputs": [
    {
     "data": {
      "text/plain": [
       "Car Brand        0\n",
       "Model            0\n",
       "Year             0\n",
       "Mileage          0\n",
       "Fuel Type        0\n",
       "Engine Size      0\n",
       "Transmission     0\n",
       "Body Type        0\n",
       "Color            0\n",
       "Owner History    0\n",
       "Price            0\n",
       "Age              0\n",
       "dtype: int64"
      ]
     },
     "execution_count": 4,
     "metadata": {},
     "output_type": "execute_result"
    }
   ],
   "source": [
    "df.isnull().sum()"
   ]
  },
  {
   "cell_type": "code",
   "execution_count": 5,
   "metadata": {},
   "outputs": [
    {
     "data": {
      "text/plain": [
       "Car Brand         object\n",
       "Model             object\n",
       "Year               int64\n",
       "Mileage            int64\n",
       "Fuel Type         object\n",
       "Engine Size      float64\n",
       "Transmission      object\n",
       "Body Type         object\n",
       "Color             object\n",
       "Owner History     object\n",
       "Price            float64\n",
       "Age                int64\n",
       "dtype: object"
      ]
     },
     "execution_count": 5,
     "metadata": {},
     "output_type": "execute_result"
    }
   ],
   "source": [
    "df.dtypes"
   ]
  },
  {
   "cell_type": "code",
   "execution_count": 6,
   "metadata": {},
   "outputs": [],
   "source": [
    "X = df.drop('Price',axis=1)\n",
    "y = df['Price']"
   ]
  },
  {
   "cell_type": "code",
   "execution_count": 7,
   "metadata": {},
   "outputs": [],
   "source": [
    "num_features = X.select_dtypes(exclude='object').columns\n",
    "cat_features = ['Car Brand','Model', 'Fuel Type', 'Transmission','Body Type', 'Color', 'Owner History']"
   ]
  },
  {
   "cell_type": "code",
   "execution_count": 8,
   "metadata": {},
   "outputs": [
    {
     "data": {
      "text/plain": [
       "(2000, 39)"
      ]
     },
     "execution_count": 8,
     "metadata": {},
     "output_type": "execute_result"
    }
   ],
   "source": [
    "preprocesser = ColumnTransformer([\n",
    "    ('OneHotEncoder', OneHotEncoder(), cat_features),\n",
    "    ('MinMaxScaler', StandardScaler(), num_features)\n",
    "])\n",
    "X_preprocessed = preprocesser.fit_transform(X)\n",
    "X_preprocessed.shape"
   ]
  },
  {
   "cell_type": "code",
   "execution_count": 57,
   "metadata": {},
   "outputs": [],
   "source": [
    "X_train,X_test,y_train,y_test = train_test_split(X_preprocessed,y, test_size=0.2, random_state=42)\n",
    "scores = []"
   ]
  },
  {
   "cell_type": "markdown",
   "metadata": {},
   "source": [
    "### Linear Regresssion"
   ]
  },
  {
   "cell_type": "code",
   "execution_count": 58,
   "metadata": {},
   "outputs": [
    {
     "name": "stdout",
     "output_type": "stream",
     "text": [
      "RMSE: 1394.8697752480844\n",
      "r2_score_train: 0.9203248984204583\n",
      "r2_socre_test: 0.8934441910972903\n",
      "Cross validation score: 0.9152470700075016\n"
     ]
    }
   ],
   "source": [
    "from sklearn.linear_model import LinearRegression\n",
    "from sklearn.metrics import mean_squared_error,r2_score\n",
    "from sklearn.model_selection import cross_val_score\n",
    "\n",
    "linear_model = LinearRegression()\n",
    "linear_model.fit(X_train, y_train)\n",
    "\n",
    "y_pred_train = linear_model.predict(X_train)\n",
    "y_pred_test = linear_model.predict(X_test)\n",
    "\n",
    "mse = mean_squared_error(y_test, y_pred_test)\n",
    "r2_train = r2_score(y_train,y_pred_train)\n",
    "r2_test = r2_score(y_test,y_pred_test)\n",
    "cv = cross_val_score(linear_model, X_train,y_train,cv=5, scoring='r2')\n",
    "rmse = np.sqrt(mse)\n",
    "\n",
    "print(\"RMSE:\", rmse)\n",
    "print(\"r2_score_train:\", r2_train)\n",
    "print(\"r2_socre_test:\",r2_test)\n",
    "print(\"Cross validation score:\", cv.mean())\n",
    "\n",
    "scores.append({'Linear Regression': {'R2_Score_train': r2_train, 'R2_Score_test':r2_test,'RMSE':rmse,'Cross Validaiton Score': cv.mean()}})"
   ]
  },
  {
   "cell_type": "markdown",
   "metadata": {},
   "source": [
    "### Lasso Regresssion"
   ]
  },
  {
   "cell_type": "code",
   "execution_count": 59,
   "metadata": {},
   "outputs": [
    {
     "name": "stdout",
     "output_type": "stream",
     "text": [
      "Best params for Lasso Regresssion: {'alpha': 16}\n",
      "RMSE: 1399.0829382437232\n",
      "r2_score_train: 0.9189628656587738\n",
      "r2_score_test: 0.8927995216098806\n",
      "Cross validation score: 0.9163771526227427\n"
     ]
    }
   ],
   "source": [
    "from sklearn.linear_model import Lasso\n",
    "from sklearn.model_selection import GridSearchCV\n",
    "\n",
    "estimator = Lasso()\n",
    "paramgrid = {'alpha': list(range(1,100))}\n",
    "grid_search_lasso = GridSearchCV(estimator,paramgrid,cv=5,scoring='r2')\n",
    "grid_search_lasso.fit(X_train,y_train)\n",
    "lasso_model = grid_search_lasso.best_estimator_\n",
    "\n",
    "y_pred_train = lasso_model.predict(X_train)\n",
    "y_pred_test = lasso_model.predict(X_test)\n",
    "\n",
    "mse = mean_squared_error(y_test,y_pred_test)\n",
    "r2_train = r2_score(y_train,y_pred_train)\n",
    "r2_test = r2_score(y_test,y_pred_test)\n",
    "cv = cross_val_score(lasso_model, X_train,y_train,cv=5,scoring='r2')\n",
    "rmse = np.sqrt(mse)\n",
    "\n",
    "print(\"Best params for Lasso Regresssion:\", grid_search_lasso.best_params_)\n",
    "print(\"RMSE:\", rmse)\n",
    "print(\"r2_score_train:\",r2_train)\n",
    "print(\"r2_score_test:\", r2_test)\n",
    "print(\"Cross validation score:\", cv.mean())\n",
    "\n",
    "scores.append({'Lasso Regression': {'R2_Score_train':r2_train,'R2_Score_test':r2_test,'RMSE':rmse,'Cross Validaiton Score': cv.mean()}})\n"
   ]
  },
  {
   "cell_type": "markdown",
   "metadata": {},
   "source": [
    "### Ridge Regression"
   ]
  },
  {
   "cell_type": "code",
   "execution_count": 60,
   "metadata": {},
   "outputs": [
    {
     "name": "stdout",
     "output_type": "stream",
     "text": [
      "Best params for Ridge Regression: {'alpha': 1}\n",
      "RMSE: 1394.3506365953292\n",
      "r2_score_train: 0.9203172219675557\n",
      "r2_score_test: 0.8935234916114349\n",
      "Cross validation score: 0.9152529429786552\n"
     ]
    }
   ],
   "source": [
    "from sklearn.linear_model import Ridge\n",
    "\n",
    "estimator = Ridge()\n",
    "param_grid = {'alpha': list(range(1,100))}\n",
    "gird_search_ridge = GridSearchCV(estimator,param_grid, cv=5, scoring='r2')\n",
    "gird_search_ridge.fit(X_train,y_train)\n",
    "ridge_model = gird_search_ridge.best_estimator_\n",
    "\n",
    "y_pred_train = ridge_model.predict(X_train)\n",
    "y_pred_test = ridge_model.predict(X_test)\n",
    "\n",
    "mse =mean_squared_error(y_test,y_pred_test)\n",
    "r2_train = r2_score(y_train,y_pred_train)\n",
    "r2_test = r2_score(y_test,y_pred_test)\n",
    "cv = cross_val_score(ridge_model,X_train,y_train,cv=5, scoring='r2')\n",
    "rmse = np.sqrt(mse)\n",
    "\n",
    "print(\"Best params for Ridge Regression:\", gird_search_ridge.best_params_)\n",
    "print(\"RMSE:\", rmse)\n",
    "print(\"r2_score_train:\", r2_train)\n",
    "print(\"r2_score_test:\", r2_test)\n",
    "print(\"Cross validation score:\", cv.mean())\n",
    "\n",
    "scores.append({'Ridge Regression': {'R2_Score_train': r2_train,'R2_Score_test': r2_test,'RMSE': rmse,'Cross Validaiton Score': cv.mean()}})"
   ]
  },
  {
   "cell_type": "markdown",
   "metadata": {},
   "source": [
    "### KNeighbors Regressor"
   ]
  },
  {
   "cell_type": "code",
   "execution_count": 64,
   "metadata": {},
   "outputs": [
    {
     "name": "stdout",
     "output_type": "stream",
     "text": [
      "Best params for KNN Regressor: {'n_neighbors': 11}\n",
      "RMSE: 2190.817203978746\n",
      "r2_score_train: 0.8004902440366325\n",
      "r2_score_test: 0.7371414620573089\n",
      "Cross validation score: 0.7450997473965313\n"
     ]
    }
   ],
   "source": [
    "from sklearn.neighbors import KNeighborsRegressor\n",
    "\n",
    "estimator = KNeighborsRegressor()\n",
    "param_grid = {'n_neighbors': list(range(1,100))}\n",
    "grid_search_knn = GridSearchCV(estimator,param_grid, cv=5,scoring='r2')\n",
    "grid_search_knn.fit(X_train,y_train)\n",
    "knn_model = grid_search_knn.best_estimator_\n",
    "\n",
    "y_pred_train = knn_model.predict(X_train)\n",
    "y_pred_test = knn_model.predict(X_test)\n",
    "\n",
    "mse = mean_squared_error(y_test,y_pred_test)\n",
    "r2_train = r2_score(y_train,y_pred_train)\n",
    "r2_test = r2_score(y_test,y_pred_test)\n",
    "cv = cross_val_score(knn_model,X_train,y_train,cv=5,scoring='r2')\n",
    "rmse = np.sqrt(mse)\n",
    "\n",
    "print(\"Best params for KNN Regressor:\", grid_search_knn.best_params_)\n",
    "print(\"RMSE:\", rmse)\n",
    "print(\"r2_score_train:\", r2_train)\n",
    "print(\"r2_score_test:\", r2_test)\n",
    "print(\"Cross validation score:\", cv.mean())\n",
    "\n",
    "scores.append({'KNeighbors Regressor': {'R2_Score_train': r2_train,'R2_Score_test': r2_test,'RMSE':rmse,'Cross Validaiton Score': cv.mean()}})"
   ]
  },
  {
   "cell_type": "markdown",
   "metadata": {},
   "source": [
    "### Decision Regression"
   ]
  },
  {
   "cell_type": "code",
   "execution_count": 65,
   "metadata": {},
   "outputs": [
    {
     "name": "stdout",
     "output_type": "stream",
     "text": [
      "Best param for DecisionTree Regressor: {'criterion': 'squared_error', 'max_depth': 7}\n",
      "RMSE: 1487.3142343327984\n",
      "r2_score_train: 0.9428259991754261\n",
      "r2_score_test: 0.8788522726892909\n",
      "Cross validation score: 0.9009731573566582\n"
     ]
    }
   ],
   "source": [
    "from sklearn.tree import DecisionTreeRegressor\n",
    "\n",
    "estimator = DecisionTreeRegressor()\n",
    "param_grid = {'max_depth': list(range(1,10)), 'criterion': ['squared_error','absolute_error']}\n",
    "grid_search_decision = GridSearchCV(estimator,param_grid,cv=5,scoring='r2')\n",
    "grid_search_decision.fit(X_train,y_train)\n",
    "decisiontree_model = grid_search_decision.best_estimator_\n",
    "\n",
    "y_pred_train = decisiontree_model.predict(X_train)\n",
    "y_pred_test = decisiontree_model.predict(X_test)\n",
    "\n",
    "mse = mean_squared_error(y_test,y_pred_test)\n",
    "r2_train = r2_score(y_train,y_pred_train)\n",
    "r2_test = r2_score(y_test,y_pred_test)\n",
    "cv = cross_val_score(decisiontree_model, X_train,y_train,cv=5, scoring='r2')\n",
    "rmse = np.sqrt(mse)\n",
    "\n",
    "print(\"Best param for DecisionTree Regressor:\", grid_search_decision.best_params_)\n",
    "print(\"RMSE:\", rmse)\n",
    "print(\"r2_score_train:\", r2_train)\n",
    "print(\"r2_score_test:\", r2_test)\n",
    "print(\"Cross validation score:\", cv.mean())\n",
    "\n",
    "scores.append({'KNeighbors Regressor': {'R2_Score_train': r2_train,'R2_Score_test': r2_test,'RMSE':rmse,'Cross Validaiton Score': cv.mean()}})"
   ]
  },
  {
   "cell_type": "markdown",
   "metadata": {},
   "source": [
    "### Random Forest Regressor"
   ]
  },
  {
   "cell_type": "code",
   "execution_count": 66,
   "metadata": {},
   "outputs": [
    {
     "name": "stdout",
     "output_type": "stream",
     "text": [
      "Best params for RandomForest Regressor: {'criterion': 'squared_error', 'max_depth': 8, 'n_estimators': 9}\n",
      "RMSE: 1284.845893235198\n",
      "r2_score_train: 0.9572000144929567\n",
      "r2_score_test: 0.9095909545304757\n",
      "Cross validation score: 0.9214809498345845\n"
     ]
    }
   ],
   "source": [
    "from sklearn.ensemble import RandomForestRegressor\n",
    "\n",
    "estimator = RandomForestRegressor()\n",
    "param_grid = {'n_estimators': list(range(1,10)), 'max_depth': list(range(1,10)), 'criterion': ['squared_error', 'absolute_error']}\n",
    "grid_search_randomforest = GridSearchCV(estimator,param_grid,cv=5, scoring='r2')\n",
    "grid_search_randomforest.fit(X_train,y_train)\n",
    "randomforest_model = grid_search_randomforest.best_estimator_\n",
    "\n",
    "y_pred_train = randomforest_model.predict(X_train)\n",
    "y_pred_test = randomforest_model.predict(X_test)\n",
    "\n",
    "mse = mean_squared_error(y_test, y_pred_test)\n",
    "r2_train = r2_score(y_train, y_pred_train)\n",
    "r2_test = r2_score(y_test, y_pred_test)\n",
    "cv = cross_val_score(randomforest_model, X_train, y_train, cv=5, scoring='r2')\n",
    "rmse = np.sqrt(mse)\n",
    "\n",
    "print(\"Best params for RandomForest Regressor:\", grid_search_randomforest.best_params_)\n",
    "print(\"RMSE:\", rmse)\n",
    "print(\"r2_score_train:\", r2_train)\n",
    "print(\"r2_score_test:\", r2_test)\n",
    "print(\"Cross validation score:\", cv.mean())\n",
    "\n",
    "scores.append({'RandomForest Regresssor': {'R2_Score_train': r2_train, 'R2_Score_test': r2_test, 'RMSE': rmse,'Cross Validaiton Score': cv.mean()}})"
   ]
  },
  {
   "cell_type": "markdown",
   "metadata": {},
   "source": [
    "### AdaBoost Regressor"
   ]
  },
  {
   "cell_type": "code",
   "execution_count": 67,
   "metadata": {},
   "outputs": [
    {
     "name": "stdout",
     "output_type": "stream",
     "text": [
      "Best params for AdaBoost Regressor: {'learning_rate': 1.0, 'n_estimators': 9}\n",
      "RMSE: 1909.8605009004098\n",
      "r2_score_train: 0.8195680472027613\n",
      "r2_score_test: 0.8002378993272472\n",
      "Cross validation score: 0.7885921448685498\n"
     ]
    }
   ],
   "source": [
    "from sklearn.ensemble import AdaBoostRegressor\n",
    "\n",
    "estimator = AdaBoostRegressor()\n",
    "param_grid = {'n_estimators': list(range(1,10)), 'learning_rate': [0.1,0.5,1.0]}\n",
    "grid_search_adaboost = GridSearchCV(estimator,param_grid,cv=5, scoring='r2')\n",
    "grid_search_adaboost.fit(X_train,y_train)\n",
    "adaboost_model = grid_search_adaboost.best_estimator_\n",
    "\n",
    "y_pred_train = adaboost_model.predict(X_train)\n",
    "y_pred_test = adaboost_model.predict(X_test)\n",
    "\n",
    "mse = mean_squared_error(y_test,y_pred_test)\n",
    "r2_train = r2_score(y_train, y_pred_train)\n",
    "r2_test = r2_score(y_test, y_pred_test)\n",
    "cv = cross_val_score(adaboost_model, X_train, y_train, cv=5, scoring='r2')\n",
    "rmse = np.sqrt(mse)\n",
    "\n",
    "print(\"Best params for AdaBoost Regressor:\", grid_search_adaboost.best_params_)\n",
    "print(\"RMSE:\", rmse)\n",
    "print(\"r2_score_train:\", r2_train)\n",
    "print(\"r2_score_test:\", r2_test)\n",
    "print(\"Cross validation score:\", cv.mean())\n",
    "\n",
    "scores.append({'AdaBoost Regressor': {'R2_Score_train': r2_train, 'R2_Score_test': r2_test, 'RMSE': rmse,'Cross Validaiton Score': cv.mean()}})"
   ]
  },
  {
   "cell_type": "markdown",
   "metadata": {},
   "source": [
    "### Gradient Boosting Regressor"
   ]
  },
  {
   "cell_type": "code",
   "execution_count": 68,
   "metadata": {},
   "outputs": [
    {
     "name": "stdout",
     "output_type": "stream",
     "text": [
      "Best params for GradientBoost Regressor: {'learning_rate': 0.5, 'n_estimators': 9}\n",
      "RMSE: 1281.9832823113363\n",
      "r2_score_train: 0.9312684056475835\n",
      "r2_score_test: 0.9099933648356071\n",
      "Cross validation score: 0.9197621523074947\n"
     ]
    }
   ],
   "source": [
    "from sklearn.ensemble import GradientBoostingRegressor\n",
    "\n",
    "estimator = GradientBoostingRegressor(random_state=42)\n",
    "paramgrid = {'n_estimators': [50, 100, 150, 200,250,300], 'learning_rate': [0.01, 0.05, 0.1, 0.2, 0.5,0.8,0.1], 'max_depth': list(range(1,10))}\n",
    "grid_search_gradientboost = GridSearchCV(estimator, param_grid,cv=5, scoring='r2')\n",
    "grid_search_gradientboost.fit(X_train,y_train)\n",
    "gradientboost_model = grid_search_gradientboost.best_estimator_\n",
    "\n",
    "y_pred_train = gradientboost_model.predict(X_train)\n",
    "y_pred_test = gradientboost_model.predict(X_test)\n",
    "\n",
    "mse = mean_squared_error(y_test, y_pred_test)\n",
    "r2_train = r2_score(y_train, y_pred_train)\n",
    "r2_test = r2_score(y_test, y_pred_test)\n",
    "cv = cross_val_score(gradientboost_model, X_train, y_train, cv=5, scoring='r2')\n",
    "rmse = np.sqrt(mse)\n",
    "\n",
    "print(\"Best params for GradientBoost Regressor:\", grid_search_gradientboost.best_params_)\n",
    "print(\"RMSE:\", rmse)\n",
    "print(\"r2_score_train:\", r2_train)\n",
    "print(\"r2_score_test:\", r2_test)\n",
    "print(\"Cross validation score:\", cv.mean())\n",
    "\n",
    "scores.append({'GradientBoost Regressor': {'R2_Score_train': r2_train, 'R2_Score_test': r2_test, 'RMSE': rmse,'Cross Validaiton Score': cv.mean()}})"
   ]
  },
  {
   "cell_type": "markdown",
   "metadata": {},
   "source": [
    "### Xgboost Regressor"
   ]
  },
  {
   "cell_type": "code",
   "execution_count": 69,
   "metadata": {},
   "outputs": [
    {
     "name": "stdout",
     "output_type": "stream",
     "text": [
      "Best params for Xgboost Regressor: {'gamma': 0, 'learning_rate': 0.2, 'max_depth': 1, 'n_estimators': 150}\n",
      "RMSE: 1156.2196833402325\n",
      "r2_score_train: 0.9412646916206399\n",
      "r2_score_test: 0.9267866094794561\n",
      "Cross validation score: 0.9361449498477281\n"
     ]
    }
   ],
   "source": [
    "from xgboost import XGBRegressor\n",
    "\n",
    "estimator = XGBRegressor(random_state=42)\n",
    "param_grid = {'n_estimators': [50,100,150,200], 'learning_rate': [0.01, 0.05, 0.1, 0.2, 0.5,0.8,0.1], 'max_depth': list(range(1,10)), 'gamma': [0, 0.1, 0.5,1]}\n",
    "grid_search_xgboost = GridSearchCV(estimator,param_grid,cv=5,scoring='r2')\n",
    "grid_search_xgboost.fit(X_train,y_train)\n",
    "xgboost_model = grid_search_xgboost.best_estimator_\n",
    "\n",
    "y_pred_train = xgboost_model.predict(X_train)\n",
    "y_pred_test = xgboost_model.predict(X_test)\n",
    "\n",
    "mse = mean_squared_error(y_test, y_pred_test)\n",
    "r2_train = r2_score(y_train, y_pred_train)\n",
    "r2_test = r2_score(y_test, y_pred_test)\n",
    "cv = cross_val_score(xgboost_model, X_train, y_train, cv=5, scoring='r2')\n",
    "rmse = np.sqrt(mse)\n",
    "\n",
    "print('Best params for Xgboost Regressor:', grid_search_xgboost.best_params_)\n",
    "print(\"RMSE:\", rmse)\n",
    "print(\"r2_score_train:\", r2_train)\n",
    "print(\"r2_score_test:\", r2_test)\n",
    "print(\"Cross validation score:\", cv.mean())\n",
    "\n",
    "scores.append({'Xgboost Regressor': {'R2_Score_train': r2_train, 'R2_Score_test': r2_test, 'RMSE': rmse,'Cross Validaiton Score': cv.mean()}})"
   ]
  },
  {
   "cell_type": "code",
   "execution_count": 70,
   "metadata": {},
   "outputs": [
    {
     "data": {
      "text/plain": [
       "[{'Linear Regression': {'R2_Score_train': 0.9203248984204583,\n",
       "   'R2_Score_test': 0.8934441910972903,\n",
       "   'RMSE': 1394.8697752480844,\n",
       "   'Cross Validaiton Score': 0.9152470700075016}},\n",
       " {'Lasso Regression': {'R2_Score_train': 0.9189628656587738,\n",
       "   'R2_Score_test': 0.8927995216098806,\n",
       "   'RMSE': 1399.0829382437232,\n",
       "   'Cross Validaiton Score': 0.9163771526227427}},\n",
       " {'Ridge Regression': {'R2_Score_train': 0.9203172219675557,\n",
       "   'R2_Score_test': 0.8935234916114349,\n",
       "   'RMSE': 1394.3506365953292,\n",
       "   'Cross Validaiton Score': 0.9152529429786552}},\n",
       " {'KNeighbors Regressor': {'R2_Score_train': 0.8004902440366325,\n",
       "   'R2_Score_test': 0.7371414620573089,\n",
       "   'RMSE': 2190.817203978746,\n",
       "   'Cross Validaiton Score': 0.7450997473965313}},\n",
       " {'KNeighbors Regressor': {'R2_Score_train': 0.9428259991754261,\n",
       "   'R2_Score_test': 0.8788522726892909,\n",
       "   'RMSE': 1487.3142343327984,\n",
       "   'Cross Validaiton Score': 0.9009731573566582}},\n",
       " {'RandomForest Regresssor': {'R2_Score_train': 0.9572000144929567,\n",
       "   'R2_Score_test': 0.9095909545304757,\n",
       "   'RMSE': 1284.845893235198,\n",
       "   'Cross Validaiton Score': 0.9214809498345845}},\n",
       " {'AdaBoost Regressor': {'R2_Score_train': 0.8195680472027613,\n",
       "   'R2_Score_test': 0.8002378993272472,\n",
       "   'RMSE': 1909.8605009004098,\n",
       "   'Cross Validaiton Score': 0.7885921448685498}},\n",
       " {'GradientBoost Regressor': {'R2_Score_train': 0.9312684056475835,\n",
       "   'R2_Score_test': 0.9099933648356071,\n",
       "   'RMSE': 1281.9832823113363,\n",
       "   'Cross Validaiton Score': 0.9197621523074947}},\n",
       " {'Xgboost Regressor': {'R2_Score_train': 0.9412646916206399,\n",
       "   'R2_Score_test': 0.9267866094794561,\n",
       "   'RMSE': 1156.2196833402325,\n",
       "   'Cross Validaiton Score': 0.9361449498477281}}]"
      ]
     },
     "execution_count": 70,
     "metadata": {},
     "output_type": "execute_result"
    }
   ],
   "source": [
    "scores"
   ]
  },
  {
   "cell_type": "code",
   "execution_count": 71,
   "metadata": {},
   "outputs": [
    {
     "data": {
      "text/html": [
       "<div>\n",
       "<style scoped>\n",
       "    .dataframe tbody tr th:only-of-type {\n",
       "        vertical-align: middle;\n",
       "    }\n",
       "\n",
       "    .dataframe tbody tr th {\n",
       "        vertical-align: top;\n",
       "    }\n",
       "\n",
       "    .dataframe thead th {\n",
       "        text-align: right;\n",
       "    }\n",
       "</style>\n",
       "<table border=\"1\" class=\"dataframe\">\n",
       "  <thead>\n",
       "    <tr style=\"text-align: right;\">\n",
       "      <th></th>\n",
       "      <th>Model</th>\n",
       "      <th>R2_Train</th>\n",
       "      <th>R2_Test</th>\n",
       "      <th>RMSE</th>\n",
       "      <th>Cross Validaiton Score</th>\n",
       "    </tr>\n",
       "  </thead>\n",
       "  <tbody>\n",
       "    <tr>\n",
       "      <th>0</th>\n",
       "      <td>Linear Regression</td>\n",
       "      <td>0.920325</td>\n",
       "      <td>0.893444</td>\n",
       "      <td>1394.869775</td>\n",
       "      <td>0.915247</td>\n",
       "    </tr>\n",
       "    <tr>\n",
       "      <th>1</th>\n",
       "      <td>Lasso Regression</td>\n",
       "      <td>0.918963</td>\n",
       "      <td>0.892800</td>\n",
       "      <td>1399.082938</td>\n",
       "      <td>0.916377</td>\n",
       "    </tr>\n",
       "    <tr>\n",
       "      <th>2</th>\n",
       "      <td>Ridge Regression</td>\n",
       "      <td>0.920317</td>\n",
       "      <td>0.893523</td>\n",
       "      <td>1394.350637</td>\n",
       "      <td>0.915253</td>\n",
       "    </tr>\n",
       "    <tr>\n",
       "      <th>3</th>\n",
       "      <td>KNeighbors Regressor</td>\n",
       "      <td>0.800490</td>\n",
       "      <td>0.737141</td>\n",
       "      <td>2190.817204</td>\n",
       "      <td>0.745100</td>\n",
       "    </tr>\n",
       "    <tr>\n",
       "      <th>4</th>\n",
       "      <td>KNeighbors Regressor</td>\n",
       "      <td>0.942826</td>\n",
       "      <td>0.878852</td>\n",
       "      <td>1487.314234</td>\n",
       "      <td>0.900973</td>\n",
       "    </tr>\n",
       "    <tr>\n",
       "      <th>5</th>\n",
       "      <td>RandomForest Regresssor</td>\n",
       "      <td>0.957200</td>\n",
       "      <td>0.909591</td>\n",
       "      <td>1284.845893</td>\n",
       "      <td>0.921481</td>\n",
       "    </tr>\n",
       "    <tr>\n",
       "      <th>6</th>\n",
       "      <td>AdaBoost Regressor</td>\n",
       "      <td>0.819568</td>\n",
       "      <td>0.800238</td>\n",
       "      <td>1909.860501</td>\n",
       "      <td>0.788592</td>\n",
       "    </tr>\n",
       "    <tr>\n",
       "      <th>7</th>\n",
       "      <td>GradientBoost Regressor</td>\n",
       "      <td>0.931268</td>\n",
       "      <td>0.909993</td>\n",
       "      <td>1281.983282</td>\n",
       "      <td>0.919762</td>\n",
       "    </tr>\n",
       "    <tr>\n",
       "      <th>8</th>\n",
       "      <td>Xgboost Regressor</td>\n",
       "      <td>0.941265</td>\n",
       "      <td>0.926787</td>\n",
       "      <td>1156.219683</td>\n",
       "      <td>0.936145</td>\n",
       "    </tr>\n",
       "  </tbody>\n",
       "</table>\n",
       "</div>"
      ],
      "text/plain": [
       "                     Model  R2_Train   R2_Test         RMSE  \\\n",
       "0        Linear Regression  0.920325  0.893444  1394.869775   \n",
       "1         Lasso Regression  0.918963  0.892800  1399.082938   \n",
       "2         Ridge Regression  0.920317  0.893523  1394.350637   \n",
       "3     KNeighbors Regressor  0.800490  0.737141  2190.817204   \n",
       "4     KNeighbors Regressor  0.942826  0.878852  1487.314234   \n",
       "5  RandomForest Regresssor  0.957200  0.909591  1284.845893   \n",
       "6       AdaBoost Regressor  0.819568  0.800238  1909.860501   \n",
       "7  GradientBoost Regressor  0.931268  0.909993  1281.983282   \n",
       "8        Xgboost Regressor  0.941265  0.926787  1156.219683   \n",
       "\n",
       "   Cross Validaiton Score  \n",
       "0                0.915247  \n",
       "1                0.916377  \n",
       "2                0.915253  \n",
       "3                0.745100  \n",
       "4                0.900973  \n",
       "5                0.921481  \n",
       "6                0.788592  \n",
       "7                0.919762  \n",
       "8                0.936145  "
      ]
     },
     "execution_count": 71,
     "metadata": {},
     "output_type": "execute_result"
    }
   ],
   "source": [
    "model_name =[]\n",
    "r2_train = []\n",
    "r2_test = []\n",
    "rmse =[]\n",
    "cv = []\n",
    "\n",
    "for model in scores:\n",
    "    for name, metrics in model.items():\n",
    "        model_name.append(name)\n",
    "        r2_train.append(float(metrics['R2_Score_train']))\n",
    "        r2_test.append(float(metrics['R2_Score_test']))\n",
    "        rmse.append(float(metrics['RMSE']))\n",
    "        cv.append(float(metrics['Cross Validaiton Score']))\n",
    "\n",
    "scores_df = pd.DataFrame({\n",
    "    'Model': model_name,\n",
    "    'R2_Train': r2_train,\n",
    "    'R2_Test': r2_test,\n",
    "    'RMSE':rmse,\n",
    "    'Cross Validaiton Score':cv\n",
    "})\n",
    "scores_df"
   ]
  },
  {
   "cell_type": "code",
   "execution_count": null,
   "metadata": {},
   "outputs": [],
   "source": [
    "     "
   ]
  }
 ],
 "metadata": {
  "kernelspec": {
   "display_name": "venv",
   "language": "python",
   "name": "python3"
  },
  "language_info": {
   "codemirror_mode": {
    "name": "ipython",
    "version": 3
   },
   "file_extension": ".py",
   "mimetype": "text/x-python",
   "name": "python",
   "nbconvert_exporter": "python",
   "pygments_lexer": "ipython3",
   "version": "3.8.20"
  }
 },
 "nbformat": 4,
 "nbformat_minor": 2
}
