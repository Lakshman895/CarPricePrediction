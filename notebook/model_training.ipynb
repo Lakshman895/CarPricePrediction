{
 "cells": [
  {
   "cell_type": "code",
   "execution_count": 1,
   "metadata": {},
   "outputs": [],
   "source": [
    "import numpy as np\n",
    "import pandas as pd\n",
    "from sklearn.preprocessing import OneHotEncoder, StandardScaler\n",
    "from sklearn.compose import ColumnTransformer\n",
    "from sklearn.model_selection import train_test_split"
   ]
  },
  {
   "cell_type": "code",
   "execution_count": 2,
   "metadata": {},
   "outputs": [
    {
     "data": {
      "text/html": [
       "<div>\n",
       "<style scoped>\n",
       "    .dataframe tbody tr th:only-of-type {\n",
       "        vertical-align: middle;\n",
       "    }\n",
       "\n",
       "    .dataframe tbody tr th {\n",
       "        vertical-align: top;\n",
       "    }\n",
       "\n",
       "    .dataframe thead th {\n",
       "        text-align: right;\n",
       "    }\n",
       "</style>\n",
       "<table border=\"1\" class=\"dataframe\">\n",
       "  <thead>\n",
       "    <tr style=\"text-align: right;\">\n",
       "      <th></th>\n",
       "      <th>Car Brand</th>\n",
       "      <th>Model</th>\n",
       "      <th>Year</th>\n",
       "      <th>Mileage</th>\n",
       "      <th>Fuel Type</th>\n",
       "      <th>Engine Size</th>\n",
       "      <th>Transmission</th>\n",
       "      <th>Body Type</th>\n",
       "      <th>Color</th>\n",
       "      <th>Owner History</th>\n",
       "      <th>Price</th>\n",
       "      <th>Age</th>\n",
       "    </tr>\n",
       "  </thead>\n",
       "  <tbody>\n",
       "    <tr>\n",
       "      <th>0</th>\n",
       "      <td>nissan</td>\n",
       "      <td>model d</td>\n",
       "      <td>2006</td>\n",
       "      <td>244586</td>\n",
       "      <td>diesel</td>\n",
       "      <td>1.1</td>\n",
       "      <td>automatic</td>\n",
       "      <td>coupe</td>\n",
       "      <td>red</td>\n",
       "      <td>third owner</td>\n",
       "      <td>6501.73</td>\n",
       "      <td>17</td>\n",
       "    </tr>\n",
       "    <tr>\n",
       "      <th>1</th>\n",
       "      <td>honda</td>\n",
       "      <td>model d</td>\n",
       "      <td>2006</td>\n",
       "      <td>89556</td>\n",
       "      <td>electric</td>\n",
       "      <td>4.4</td>\n",
       "      <td>automatic</td>\n",
       "      <td>coupe</td>\n",
       "      <td>gray</td>\n",
       "      <td>second owner</td>\n",
       "      <td>15860.51</td>\n",
       "      <td>17</td>\n",
       "    </tr>\n",
       "    <tr>\n",
       "      <th>2</th>\n",
       "      <td>ford</td>\n",
       "      <td>model e</td>\n",
       "      <td>2007</td>\n",
       "      <td>258273</td>\n",
       "      <td>hybrid</td>\n",
       "      <td>1.4</td>\n",
       "      <td>manual</td>\n",
       "      <td>suv</td>\n",
       "      <td>black</td>\n",
       "      <td>first owner</td>\n",
       "      <td>8136.09</td>\n",
       "      <td>16</td>\n",
       "    </tr>\n",
       "    <tr>\n",
       "      <th>3</th>\n",
       "      <td>kia</td>\n",
       "      <td>model e</td>\n",
       "      <td>2023</td>\n",
       "      <td>217592</td>\n",
       "      <td>electric</td>\n",
       "      <td>3.7</td>\n",
       "      <td>automatic</td>\n",
       "      <td>coupe</td>\n",
       "      <td>red</td>\n",
       "      <td>second owner</td>\n",
       "      <td>18556.40</td>\n",
       "      <td>0</td>\n",
       "    </tr>\n",
       "    <tr>\n",
       "      <th>4</th>\n",
       "      <td>chevrolet</td>\n",
       "      <td>model c</td>\n",
       "      <td>2002</td>\n",
       "      <td>256919</td>\n",
       "      <td>hybrid</td>\n",
       "      <td>2.8</td>\n",
       "      <td>manual</td>\n",
       "      <td>suv</td>\n",
       "      <td>blue</td>\n",
       "      <td>third owner</td>\n",
       "      <td>7486.00</td>\n",
       "      <td>21</td>\n",
       "    </tr>\n",
       "  </tbody>\n",
       "</table>\n",
       "</div>"
      ],
      "text/plain": [
       "   Car Brand    Model  Year  Mileage Fuel Type  Engine Size Transmission  \\\n",
       "0     nissan  model d  2006   244586    diesel          1.1    automatic   \n",
       "1      honda  model d  2006    89556  electric          4.4    automatic   \n",
       "2       ford  model e  2007   258273    hybrid          1.4       manual   \n",
       "3        kia  model e  2023   217592  electric          3.7    automatic   \n",
       "4  chevrolet  model c  2002   256919    hybrid          2.8       manual   \n",
       "\n",
       "  Body Type  Color Owner History     Price  Age  \n",
       "0     coupe    red   third owner   6501.73   17  \n",
       "1     coupe   gray  second owner  15860.51   17  \n",
       "2       suv  black   first owner   8136.09   16  \n",
       "3     coupe    red  second owner  18556.40    0  \n",
       "4       suv   blue   third owner   7486.00   21  "
      ]
     },
     "execution_count": 2,
     "metadata": {},
     "output_type": "execute_result"
    }
   ],
   "source": [
    "df = pd.read_csv('../data/cleaned_car_data.csv')\n",
    "df.head()"
   ]
  },
  {
   "cell_type": "code",
   "execution_count": 3,
   "metadata": {},
   "outputs": [
    {
     "data": {
      "text/plain": [
       "Car Brand        0\n",
       "Model            0\n",
       "Year             0\n",
       "Mileage          0\n",
       "Fuel Type        0\n",
       "Engine Size      0\n",
       "Transmission     0\n",
       "Body Type        0\n",
       "Color            0\n",
       "Owner History    0\n",
       "Price            0\n",
       "Age              0\n",
       "dtype: int64"
      ]
     },
     "execution_count": 3,
     "metadata": {},
     "output_type": "execute_result"
    }
   ],
   "source": [
    "df.isnull().sum()"
   ]
  },
  {
   "cell_type": "code",
   "execution_count": 4,
   "metadata": {},
   "outputs": [
    {
     "data": {
      "text/plain": [
       "Car Brand         object\n",
       "Model             object\n",
       "Year               int64\n",
       "Mileage            int64\n",
       "Fuel Type         object\n",
       "Engine Size      float64\n",
       "Transmission      object\n",
       "Body Type         object\n",
       "Color             object\n",
       "Owner History     object\n",
       "Price            float64\n",
       "Age                int64\n",
       "dtype: object"
      ]
     },
     "execution_count": 4,
     "metadata": {},
     "output_type": "execute_result"
    }
   ],
   "source": [
    "df.dtypes"
   ]
  },
  {
   "cell_type": "code",
   "execution_count": 5,
   "metadata": {},
   "outputs": [],
   "source": [
    "X = df.drop('Price',axis=1)\n",
    "y = df['Price']"
   ]
  },
  {
   "cell_type": "code",
   "execution_count": 7,
   "metadata": {},
   "outputs": [],
   "source": [
    "num_features = X.select_dtypes(exclude='object').columns\n",
    "cat_features = ['Car Brand','Model', 'Fuel Type', 'Transmission','Body Type', 'Color', 'Owner History']"
   ]
  },
  {
   "cell_type": "code",
   "execution_count": 8,
   "metadata": {},
   "outputs": [
    {
     "data": {
      "text/plain": [
       "(2000, 39)"
      ]
     },
     "execution_count": 8,
     "metadata": {},
     "output_type": "execute_result"
    }
   ],
   "source": [
    "preprocesser = ColumnTransformer([\n",
    "    ('OneHotEncoder', OneHotEncoder(), cat_features),\n",
    "    ('MinMaxScaler', StandardScaler(), num_features)\n",
    "])\n",
    "X_preprocessed = preprocesser.fit_transform(X)\n",
    "X_preprocessed.shape"
   ]
  },
  {
   "cell_type": "code",
   "execution_count": 11,
   "metadata": {},
   "outputs": [],
   "source": [
    "X_train,X_test,y_train,y_test = train_test_split(X_preprocessed,y, test_size=0.2, random_state=42)\n",
    "scores = []"
   ]
  },
  {
   "cell_type": "code",
   "execution_count": 15,
   "metadata": {},
   "outputs": [
    {
     "name": "stdout",
     "output_type": "stream",
     "text": [
      "RMSE: 1394.8697752480844\n",
      "r2_score_train: 0.9203248984204583\n",
      "r2_socre_test: 0.8934441910972903\n",
      "Cross validation score: 0.9152470700075016\n"
     ]
    }
   ],
   "source": [
    "from sklearn.linear_model import LinearRegression\n",
    "from sklearn.metrics import mean_squared_error,r2_score\n",
    "from sklearn.model_selection import cross_val_score\n",
    "\n",
    "linear_model = LinearRegression()\n",
    "linear_model.fit(X_train, y_train)\n",
    "\n",
    "y_pred_train = linear_model.predict(X_train)\n",
    "y_pred_test = linear_model.predict(X_test)\n",
    "\n",
    "mse = mean_squared_error(y_test, y_pred_test)\n",
    "r2_train = r2_score(y_train,y_pred_train)\n",
    "r2_test = r2_score(y_test,y_pred_test)\n",
    "cv = cross_val_score(linear_model, X_train,y_train,cv=5, scoring='r2')\n",
    "rmse = np.sqrt(mse)\n",
    "\n",
    "print(\"RMSE:\", rmse)\n",
    "print(\"r2_score_train:\", r2_train)\n",
    "print(\"r2_socre_test:\",r2_test)\n",
    "print(\"Cross validation score:\", cv.mean())\n",
    "\n",
    "scores.append({'Linear Regression': {'R2_Score_Train': r2_train, 'R2_Score_Test':r2_test,'MSE':mse,'Cross validation score': cv.mean()}})"
   ]
  },
  {
   "cell_type": "code",
   "execution_count": null,
   "metadata": {},
   "outputs": [],
   "source": []
  }
 ],
 "metadata": {
  "kernelspec": {
   "display_name": "venv",
   "language": "python",
   "name": "python3"
  },
  "language_info": {
   "codemirror_mode": {
    "name": "ipython",
    "version": 3
   },
   "file_extension": ".py",
   "mimetype": "text/x-python",
   "name": "python",
   "nbconvert_exporter": "python",
   "pygments_lexer": "ipython3",
   "version": "3.8.20"
  }
 },
 "nbformat": 4,
 "nbformat_minor": 2
}
